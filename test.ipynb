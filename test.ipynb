{
 "cells": [
  {
   "cell_type": "code",
   "id": "initial_id",
   "metadata": {
    "collapsed": true,
    "ExecuteTime": {
     "end_time": "2025-02-27T14:01:01.476833Z",
     "start_time": "2025-02-27T14:00:58.994327Z"
    }
   },
   "source": [
    "import torch.nn as nn\n",
    "import torch.optim as optim\n",
    "from torchvision import datasets, transforms\n",
    "from torch.utils.data import DataLoader\n",
    "import matplotlib.pyplot as plt"
   ],
   "outputs": [],
   "execution_count": 1
  },
  {
   "metadata": {
    "ExecuteTime": {
     "end_time": "2025-02-27T14:01:02.639473Z",
     "start_time": "2025-02-27T14:01:02.611142Z"
    }
   },
   "cell_type": "code",
   "source": [
    "import torch\n",
    "# Check if MPS (Apple Silicon GPU) is available\n",
    "print(torch.backends.mps.is_available())\n",
    "device = torch.device('mps') if torch.backends.mps.is_available() else torch.device('cpu')\n",
    "print(f\"Using device: {device}\")"
   ],
   "id": "c7c4814f39fd7c0",
   "outputs": [
    {
     "name": "stdout",
     "output_type": "stream",
     "text": [
      "True\n",
      "Using device: mps\n"
     ]
    }
   ],
   "execution_count": 2
  },
  {
   "metadata": {
    "ExecuteTime": {
     "end_time": "2025-02-27T14:01:15.997998Z",
     "start_time": "2025-02-27T14:01:15.994601Z"
    }
   },
   "cell_type": "code",
   "source": [
    "# 1. Prétraitement des données\n",
    "def get_transform(channels):\n",
    "    return transforms.Compose([\n",
    "        transforms.ToTensor(),\n",
    "        transforms.Normalize((0.5,) * channels, (0.5,) * channels)  # Normalize based on number of channels\n",
    "    ])"
   ],
   "id": "f91ab3fa06875463",
   "outputs": [],
   "execution_count": 3
  },
  {
   "metadata": {
    "ExecuteTime": {
     "end_time": "2025-02-27T14:01:20.815711Z",
     "start_time": "2025-02-27T14:01:20.781363Z"
    }
   },
   "cell_type": "code",
   "source": [
    "# Chargement du dataset\n",
    "dataset_name = 'MNIST'  # You can change this to 'CIFAR10' or another dataset\n",
    "if dataset_name == 'MNIST':\n",
    "    channels = 1\n",
    "    train_dataset = datasets.MNIST(root='./data', train=True, download=True, transform=get_transform(channels))\n",
    "elif dataset_name == 'CIFAR10':\n",
    "    channels = 3\n",
    "    train_dataset = datasets.CIFAR10(root='./data', train=True, download=True, transform=get_transform(channels))\n",
    "else:\n",
    "    raise ValueError(\"Unsupported dataset\")\n",
    "\n",
    "train_loader = DataLoader(train_dataset, batch_size=64, shuffle=True)"
   ],
   "id": "e73d004f9cf5bd35",
   "outputs": [],
   "execution_count": 4
  },
  {
   "metadata": {
    "ExecuteTime": {
     "end_time": "2025-02-27T14:01:23.076636Z",
     "start_time": "2025-02-27T14:01:23.070349Z"
    }
   },
   "cell_type": "code",
   "source": [
    "# 2. Définition du modèle Autoencodeur\n",
    "class Autoencoder(nn.Module):\n",
    "    def __init__(self, in_channels=1):  # Default to 1 channel (MNIST), but can be overridden\n",
    "        super(Autoencoder, self).__init__()\n",
    "        # Encoder\n",
    "        self.encoder = nn.Sequential(\n",
    "            nn.Conv2d(in_channels, 32, kernel_size=3, stride=2, padding=1),  # Input: [in_channels, H, W] -> [32, H/2, W/2]\n",
    "            nn.ReLU(),\n",
    "            nn.Conv2d(32, 64, kernel_size=3, stride=2, padding=1),  # [32, H/2, W/2] -> [64, H/4, W/4]\n",
    "            nn.ReLU(),\n",
    "        )\n",
    "        # Decoder\n",
    "        self.decoder = nn.Sequential(\n",
    "            nn.ConvTranspose2d(64, 32, kernel_size=3, stride=2, padding=1, output_padding=1),  # [64, H/4, W/4] -> [32, H/2, W/2]\n",
    "            nn.ReLU(),\n",
    "            nn.ConvTranspose2d(32, in_channels, kernel_size=3, stride=2, padding=1, output_padding=1),  # [32, H/2, W/2] -> [in_channels, H, W]\n",
    "            nn.Sigmoid()  # Output between 0 and 1\n",
    "        )\n",
    "\n",
    "    def forward(self, x):\n",
    "        x = self.encoder(x)\n",
    "        x = self.decoder(x)\n",
    "        return x"
   ],
   "id": "7685063d403e80d7",
   "outputs": [],
   "execution_count": 5
  },
  {
   "metadata": {
    "ExecuteTime": {
     "end_time": "2025-02-27T14:01:24.781580Z",
     "start_time": "2025-02-27T14:01:24.768429Z"
    }
   },
   "cell_type": "code",
   "source": [
    "# 3. Initialisation du modèle, de la fonction de perte et de l'optimiseur\n",
    "model = Autoencoder(in_channels=channels) # MNIST\n",
    "model.to(device)\n",
    "criterion = nn.MSELoss()  # Erreur quadratique moyenne pour la reconstruction\n",
    "optimizer = optim.Adam(model.parameters(), lr=0.001)"
   ],
   "id": "3b91097579aed17b",
   "outputs": [],
   "execution_count": 6
  },
  {
   "metadata": {
    "ExecuteTime": {
     "end_time": "2025-02-27T14:01:37.535001Z",
     "start_time": "2025-02-27T14:01:28.268227Z"
    }
   },
   "cell_type": "code",
   "source": [
    "# 4. Entraînement du modèle\n",
    "num_epochs = 1\n",
    "for epoch in range(num_epochs):\n",
    "    for data in train_loader:\n",
    "        img, _ = data  # On ignore les labels\n",
    "        img = img.to(device)\n",
    "        # Zero gradients, forward pass, backward pass, update weights\n",
    "        optimizer.zero_grad()\n",
    "        output = model(img)\n",
    "        loss = criterion(output, img)\n",
    "        loss.backward()\n",
    "        optimizer.step()\n",
    "\n",
    "    print(f\"Epoch [{epoch+1}/{num_epochs}], Loss: {loss.item():.4f}\")"
   ],
   "id": "119f8f7304afc581",
   "outputs": [
    {
     "name": "stdout",
     "output_type": "stream",
     "text": [
      "Epoch [1/1], Loss: 0.8717\n"
     ]
    }
   ],
   "execution_count": 7
  },
  {
   "metadata": {
    "ExecuteTime": {
     "end_time": "2025-02-27T14:01:46.098086Z",
     "start_time": "2025-02-27T14:01:45.937514Z"
    }
   },
   "cell_type": "code",
   "source": [
    "# 5. Visualisation d'une image reconstruite\n",
    "data_iter = iter(train_loader)\n",
    "images, _ = next(data_iter)\n",
    "images = images.to(device)\n",
    "\n",
    "reconstructed = model(images)\n",
    "\n",
    "# Affichage de l'image originale et reconstruite\n",
    "original_image = images[0].permute(1, 2, 0).cpu().numpy()\n",
    "reconstructed_image = reconstructed[0].detach().cpu().permute(1, 2, 0).numpy()\n",
    "\n",
    "plt.figure(figsize=(9, 4))\n",
    "plt.subplot(1, 2, 1)\n",
    "plt.imshow(original_image)\n",
    "plt.title(\"Image originale\")\n",
    "plt.subplot(1, 2, 2)\n",
    "plt.imshow(reconstructed_image)\n",
    "plt.title(\"Image reconstruite\")\n",
    "plt.show()"
   ],
   "id": "c0ce709afbc300b4",
   "outputs": [
    {
     "data": {
      "text/plain": [
       "<Figure size 900x400 with 2 Axes>"
      ],
      "image/png": "[encoded data removed]"
     },
     "metadata": {},
     "output_type": "display_data"
    }
   ],
   "execution_count": 8
  },
  {
   "metadata": {},
   "cell_type": "code",
   "source": "",
   "id": "de4936d9faceec56",
   "outputs": [],
   "execution_count": null
  }
 ],
 "metadata": {
  "kernelspec": {
   "display_name": "Python 3",
   "language": "python",
   "name": "python3"
  },
  "language_info": {
   "codemirror_mode": {
    "name": "ipython",
    "version": 2
   },
   "file_extension": ".py",
   "mimetype": "text/x-python",
   "name": "python",
   "nbconvert_exporter": "python",
   "pygments_lexer": "ipython2",
   "version": "2.7.6"
  }
 },
 "nbformat": 4,
 "nbformat_minor": 5
}
