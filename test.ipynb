{
 "cells": [
  {
   "cell_type": "code",
   "id": "initial_id",
   "metadata": {
    "collapsed": true,
    "ExecuteTime": {
     "end_time": "2025-02-27T14:11:53.753149Z",
     "start_time": "2025-02-27T14:11:51.388700Z"
    }
   },
   "source": [
    "import torch.nn as nn\n",
    "import torch.optim as optim\n",
    "from torchvision import datasets, transforms\n",
    "from torch.utils.data import DataLoader\n",
    "import matplotlib.pyplot as plt"
   ],
   "outputs": [],
   "execution_count": 1
  },
  {
   "metadata": {
    "ExecuteTime": {
     "end_time": "2025-02-27T14:11:54.368408Z",
     "start_time": "2025-02-27T14:11:54.340360Z"
    }
   },
   "cell_type": "code",
   "source": [
    "import torch\n",
    "# Check if MPS (Apple Silicon GPU) is available\n",
    "print(torch.backends.mps.is_available())\n",
    "device = torch.device('mps') if torch.backends.mps.is_available() else torch.device('cpu')\n",
    "print(f\"Using device: {device}\")"
   ],
   "id": "c7c4814f39fd7c0",
   "outputs": [
    {
     "name": "stdout",
     "output_type": "stream",
     "text": [
      "True\n",
      "Using device: mps\n"
     ]
    }
   ],
   "execution_count": 2
  },
  {
   "metadata": {
    "ExecuteTime": {
     "end_time": "2025-02-27T14:11:57.739696Z",
     "start_time": "2025-02-27T14:11:57.736003Z"
    }
   },
   "cell_type": "code",
   "source": [
    "# 1. Prétraitement des données\n",
    "def get_transform(channels):\n",
    "    return transforms.Compose([\n",
    "        transforms.ToTensor(),\n",
    "        transforms.Normalize((0.5,) * channels, (0.5,) * channels)  # Normalize based on number of channels\n",
    "    ])"
   ],
   "id": "f91ab3fa06875463",
   "outputs": [],
   "execution_count": 3
  },
  {
   "metadata": {
    "ExecuteTime": {
     "end_time": "2025-02-27T14:11:59.891776Z",
     "start_time": "2025-02-27T14:11:59.886528Z"
    }
   },
   "cell_type": "code",
   "source": [
    "def load_dataset(dataset_name, train=True, batch_size=64, shuffle=True, root='./data'):\n",
    "    if dataset_name == 'MNIST':\n",
    "        channels = 1\n",
    "        dataset = datasets.MNIST(root=root, train=train, download=True, transform=get_transform(channels))\n",
    "    elif dataset_name == 'CIFAR10':\n",
    "        channels = 3\n",
    "        dataset = datasets.CIFAR10(root=root, train=train, download=True, transform=get_transform(channels))\n",
    "    elif dataset_name == 'FashionMNIST':\n",
    "        channels = 1\n",
    "        dataset = datasets.FashionMNIST(root=root, train=train, download=True, transform=get_transform(channels))\n",
    "    else:\n",
    "        raise ValueError(f\"Unsupported dataset: {dataset_name}\")\n",
    "\n",
    "    loader = DataLoader(dataset, batch_size=batch_size, shuffle=shuffle)\n",
    "    return loader, channels"
   ],
   "id": "9040de2b79ad045b",
   "outputs": [],
   "execution_count": 4
  },
  {
   "metadata": {
    "ExecuteTime": {
     "end_time": "2025-02-27T14:12:01.419008Z",
     "start_time": "2025-02-27T14:12:01.381236Z"
    }
   },
   "cell_type": "code",
   "source": [
    "train_dataset_name = 'MNIST'\n",
    "eval_dataset_name = 'FashionMNIST'\n",
    "\n",
    "train_loader, train_channels = load_dataset(train_dataset_name, train=True, batch_size=64, shuffle=True)\n",
    "eval_loader, eval_channels = load_dataset(eval_dataset_name, train=False, batch_size=64, shuffle=False)"
   ],
   "id": "e73d004f9cf5bd35",
   "outputs": [],
   "execution_count": 5
  },
  {
   "metadata": {
    "ExecuteTime": {
     "end_time": "2025-02-27T14:12:04.696481Z",
     "start_time": "2025-02-27T14:12:04.691131Z"
    }
   },
   "cell_type": "code",
   "source": [
    "# 2. Définition du modèle Autoencodeur\n",
    "class Autoencoder(nn.Module):\n",
    "    def __init__(self, in_channels=1):  # Default to 1 channel (MNIST), but can be overridden\n",
    "        super(Autoencoder, self).__init__()\n",
    "        # Encoder\n",
    "        self.encoder = nn.Sequential(\n",
    "            nn.Conv2d(in_channels, 32, kernel_size=3, stride=2, padding=1),  # Input: [in_channels, H, W] -> [32, H/2, W/2]\n",
    "            nn.ReLU(),\n",
    "            nn.Conv2d(32, 64, kernel_size=3, stride=2, padding=1),  # [32, H/2, W/2] -> [64, H/4, W/4]\n",
    "            nn.ReLU(),\n",
    "        )\n",
    "        # Decoder\n",
    "        self.decoder = nn.Sequential(\n",
    "            nn.ConvTranspose2d(64, 32, kernel_size=3, stride=2, padding=1, output_padding=1),  # [64, H/4, W/4] -> [32, H/2, W/2]\n",
    "            nn.ReLU(),\n",
    "            nn.ConvTranspose2d(32, in_channels, kernel_size=3, stride=2, padding=1, output_padding=1),  # [32, H/2, W/2] -> [in_channels, H, W]\n",
    "            nn.Sigmoid()  # Output between 0 and 1\n",
    "        )\n",
    "\n",
    "    def forward(self, x):\n",
    "        x = self.encoder(x)\n",
    "        x = self.decoder(x)\n",
    "        return x"
   ],
   "id": "7685063d403e80d7",
   "outputs": [],
   "execution_count": 6
  },
  {
   "metadata": {
    "ExecuteTime": {
     "end_time": "2025-02-27T14:12:07.645333Z",
     "start_time": "2025-02-27T14:12:07.629626Z"
    }
   },
   "cell_type": "code",
   "source": [
    "# 3. Initialisation du modèle, de la fonction de perte et de l'optimiseur\n",
    "model = Autoencoder(in_channels=train_channels) # MNIST\n",
    "model.to(device)\n",
    "criterion = nn.MSELoss()  # Erreur quadratique moyenne pour la reconstruction\n",
    "optimizer = optim.Adam(model.parameters(), lr=0.001)"
   ],
   "id": "3b91097579aed17b",
   "outputs": [],
   "execution_count": 7
  },
  {
   "metadata": {
    "ExecuteTime": {
     "end_time": "2025-02-27T14:12:56.809083Z",
     "start_time": "2025-02-27T14:12:12.097523Z"
    }
   },
   "cell_type": "code",
   "source": [
    "# 4. Entraînement du modèle\n",
    "num_epochs = 1\n",
    "for epoch in range(num_epochs):\n",
    "    model.train()\n",
    "    train_loss = 0\n",
    "    for data in train_loader:\n",
    "        img, _ = data\n",
    "        img = img.to(device)\n",
    "        optimizer.zero_grad()\n",
    "        output = model(img)\n",
    "        loss = criterion(output, img)\n",
    "        loss.backward()\n",
    "        optimizer.step()\n",
    "        train_loss += loss.item()\n",
    "    print(f\"Epoch [{epoch+1}/{num_epochs}], Train Loss: {train_loss/len(train_loader):.4f}\")"
   ],
   "id": "119f8f7304afc581",
   "outputs": [
    {
     "name": "stdout",
     "output_type": "stream",
     "text": [
      "Epoch [1/5], Train Loss: 0.8989\n",
      "Epoch [2/5], Train Loss: 0.8798\n",
      "Epoch [3/5], Train Loss: 0.8797\n",
      "Epoch [4/5], Train Loss: 0.8796\n",
      "Epoch [5/5], Train Loss: 0.8796\n"
     ]
    }
   ],
   "execution_count": 8
  },
  {
   "metadata": {
    "ExecuteTime": {
     "end_time": "2025-02-27T14:17:45.421458Z",
     "start_time": "2025-02-27T14:17:44.207529Z"
    }
   },
   "cell_type": "code",
   "source": [
    "model.eval()\n",
    "eval_loss = 0\n",
    "with torch.no_grad():\n",
    "    for data in eval_loader:\n",
    "        img, _ = data\n",
    "        if img.shape[2:] != (28, 28):  # Resize if necessary\n",
    "            img = transforms.functional.resize(img, (28, 28))\n",
    "        img = img.to(device)\n",
    "        output = model(img)\n",
    "        loss = criterion(output, img)\n",
    "        eval_loss += loss.item()\n",
    "\n",
    "print(f\"Evaluation Loss on {eval_dataset_name}: {eval_loss/len(eval_loader):.4f}\")"
   ],
   "id": "bb42d8787e1fc30f",
   "outputs": [
    {
     "name": "stdout",
     "output_type": "stream",
     "text": [
      "Evaluation Loss on FashionMNIST: 0.6263\n"
     ]
    }
   ],
   "execution_count": 9
  },
  {
   "metadata": {
    "ExecuteTime": {
     "end_time": "2025-02-27T14:18:49.539320Z",
     "start_time": "2025-02-27T14:18:49.410698Z"
    }
   },
   "cell_type": "code",
   "source": [
    "# 5. Visualisation d'une image reconstruite\n",
    "data_iter = iter(eval_loader)\n",
    "images, _ = next(data_iter)\n",
    "images = images.to(device)\n",
    "\n",
    "reconstructed = model(images)\n",
    "\n",
    "# Affichage de l'image originale et reconstruite\n",
    "original_image = images[0].permute(1, 2, 0).cpu().numpy()\n",
    "reconstructed_image = reconstructed[0].detach().cpu().permute(1, 2, 0).numpy()\n",
    "\n",
    "plt.figure(figsize=(9, 4))\n",
    "plt.subplot(1, 2, 1)\n",
    "plt.imshow(original_image)\n",
    "plt.title(\"Image originale\")\n",
    "plt.subplot(1, 2, 2)\n",
    "plt.imshow(reconstructed_image)\n",
    "plt.title(\"Image reconstruite\")\n",
    "plt.show()"
   ],
   "id": "70b2909037fd4379",
   "outputs": [
    {
     "data": {
      "text/plain": [
       "<Figure size 900x400 with 2 Axes>"
      ],
      "image/png": "[encoded data removed]"
     },
     "metadata": {},
     "output_type": "display_data"
    }
   ],
   "execution_count": 12
  },
  {
   "metadata": {
    "ExecuteTime": {
     "end_time": "2025-02-27T14:19:00.055685Z",
     "start_time": "2025-02-27T14:18:59.923071Z"
    }
   },
   "cell_type": "code",
   "source": [
    "# 5. Visualisation d'une image reconstruite\n",
    "data_iter = iter(train_loader)\n",
    "images, _ = next(data_iter)\n",
    "images = images.to(device)\n",
    "\n",
    "reconstructed = model(images)\n",
    "\n",
    "# Affichage de l'image originale et reconstruite\n",
    "original_image = images[0].permute(1, 2, 0).cpu().numpy()\n",
    "reconstructed_image = reconstructed[0].detach().cpu().permute(1, 2, 0).numpy()\n",
    "\n",
    "plt.figure(figsize=(9, 4))\n",
    "plt.subplot(1, 2, 1)\n",
    "plt.imshow(original_image)\n",
    "plt.title(\"Image originale\")\n",
    "plt.subplot(1, 2, 2)\n",
    "plt.imshow(reconstructed_image)\n",
    "plt.title(\"Image reconstruite\")\n",
    "plt.show()"
   ],
   "id": "c0ce709afbc300b4",
   "outputs": [
    {
     "data": {
      "text/plain": [
       "<Figure size 900x400 with 2 Axes>"
      ],
      "image/png": "[encoded data removed]"
     },
     "metadata": {},
     "output_type": "display_data"
    }
   ],
   "execution_count": 13
  },
  {
   "metadata": {},
   "cell_type": "code",
   "source": "",
   "id": "de4936d9faceec56",
   "outputs": [],
   "execution_count": null
  }
 ],
 "metadata": {
  "kernelspec": {
   "display_name": "Python 3",
   "language": "python",
   "name": "python3"
  },
  "language_info": {
   "codemirror_mode": {
    "name": "ipython",
    "version": 2
   },
   "file_extension": ".py",
   "mimetype": "text/x-python",
   "name": "python",
   "nbconvert_exporter": "python",
   "pygments_lexer": "ipython2",
   "version": "2.7.6"
  }
 },
 "nbformat": 4,
 "nbformat_minor": 5
}
